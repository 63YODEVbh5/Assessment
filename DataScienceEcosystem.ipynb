{
 "cells": [
  {
   "cell_type": "markdown",
   "id": "827572d3-2c07-466c-a303-47658bf6968d",
   "metadata": {},
   "source": [
    "# Data Science Tools and Ecosystem"
   ]
  },
  {
   "cell_type": "markdown",
   "id": "573e3029-3d6e-458c-a9e1-39f6a8ad844e",
   "metadata": {},
   "source": [
    "## Author ## "
   ]
  },
  {
   "cell_type": "markdown",
   "id": "52322df6-fdf9-4061-95bd-d18e2f2d68ac",
   "metadata": {},
   "source": [
    "Tom Hall"
   ]
  },
  {
   "cell_type": "markdown",
   "id": "e49a0539-a4a1-4f7b-9642-e4529c1bf044",
   "metadata": {},
   "source": [
    "### In this notebook, Data Science Tools and Ecosystem are summarized."
   ]
  },
  {
   "cell_type": "markdown",
   "id": "62992134-bd77-4bf6-bfba-b218a9aac373",
   "metadata": {},
   "source": [
    "**Objectives**\n",
    "+ List the Popular languages used in Data Science\n",
    "+ List a set of commonly used libraries in Data Science \n",
    "+ Provide a brief example of simple mathematical operations using Jupyter Notebook \n",
    "+ One example show addition and multiplication combined\n",
    "+ Another shows division \n"
   ]
  },
  {
   "cell_type": "markdown",
   "id": "9d413240-b386-4114-ba67-42fa3f98f45f",
   "metadata": {},
   "source": [
    "Some of the popular languages that Data Scientists use are:\n",
    "\n",
    "1. Python\n",
    "2. R\n",
    "3. Julia\n",
    "4. SAS"
   ]
  },
  {
   "cell_type": "markdown",
   "id": "bc565d90-bd15-4676-b668-9969d3688b4f",
   "metadata": {},
   "source": [
    "Some of the commonly used libraries used by Data Scientists include:\n",
    "\n",
    "+ pandas\n",
    "+ numpy\n",
    "+ dplyr\n",
    "+ matplotlib\n",
    "+ Tensorflow\n",
    "+ seaborn\n",
    "+ ggplot2\n",
    "+ plotly \n"
   ]
  },
  {
   "cell_type": "markdown",
   "id": "e4c33a14-e726-4907-9e27-35a499715deb",
   "metadata": {},
   "source": [
    "### Below are a few examples of evaluating arithmetic expressions in Python."
   ]
  },
  {
   "cell_type": "markdown",
   "id": "0c1806a0-261b-4507-8fa9-fd9de706211c",
   "metadata": {},
   "source": [
    "This a simple arithmetic expression to mutiply then add integers.\n",
    "\n"
   ]
  },
  {
   "cell_type": "code",
   "execution_count": 2,
   "id": "e2614a71-fb77-4d18-b342-a923751ce0a4",
   "metadata": {},
   "outputs": [
    {
     "data": {
      "text/plain": [
       "17"
      ]
     },
     "execution_count": 2,
     "metadata": {},
     "output_type": "execute_result"
    }
   ],
   "source": [
    "(3*4)+5\n"
   ]
  },
  {
   "cell_type": "code",
   "execution_count": null,
   "id": "2cdbd9c3-2870-403f-984a-e162c9dbf369",
   "metadata": {},
   "outputs": [],
   "source": [
    "# This will convert 200 minutes to hours by diving by 60.\n"
   ]
  },
  {
   "cell_type": "code",
   "execution_count": 3,
   "id": "a946f267-5061-4d31-b5cb-9097d4d74627",
   "metadata": {},
   "outputs": [
    {
     "data": {
      "text/plain": [
       "3.3333333333333335"
      ]
     },
     "execution_count": 3,
     "metadata": {},
     "output_type": "execute_result"
    }
   ],
   "source": [
    "200/60\n"
   ]
  },
  {
   "cell_type": "code",
   "execution_count": null,
   "id": "cbdc845a-75a6-4fbb-9456-65bb644e4f1a",
   "metadata": {},
   "outputs": [],
   "source": []
  }
 ],
 "metadata": {
  "kernelspec": {
   "display_name": "Python 3 (ipykernel)",
   "language": "python",
   "name": "python3"
  },
  "language_info": {
   "codemirror_mode": {
    "name": "ipython",
    "version": 3
   },
   "file_extension": ".py",
   "mimetype": "text/x-python",
   "name": "python",
   "nbconvert_exporter": "python",
   "pygments_lexer": "ipython3",
   "version": "3.11.9"
  }
 },
 "nbformat": 4,
 "nbformat_minor": 5
}
